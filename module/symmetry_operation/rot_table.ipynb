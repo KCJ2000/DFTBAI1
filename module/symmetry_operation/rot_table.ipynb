{
 "cells": [
  {
   "cell_type": "code",
   "execution_count": 21,
   "metadata": {},
   "outputs": [
    {
     "name": "stdout",
     "output_type": "stream",
     "text": [
      "1479\n"
     ]
    }
   ],
   "source": [
    "import json\n",
    "with open(\"G:\\\\DFTBAI\\\\DFAITB1\\\\symmetry_operation\\\\mag_group_name.json\",'r',encoding='utf-8') as f:\n",
    "    sgn_and_Bravais_table = json.load(f)\n",
    "print(sgn_and_Bravais_table[\"P6'/m'cc'\"])"
   ]
  },
  {
   "cell_type": "code",
   "execution_count": 17,
   "metadata": {},
   "outputs": [
    {
     "name": "stdout",
     "output_type": "stream",
     "text": [
      "230\n"
     ]
    }
   ],
   "source": [
    "SGSymText=[\"P1\", \"P-1\", \"P2\", \"P21\", \"C2\", \"Pm\", \"Pc\", \"Cm\", \"Cc\", \"P2/m\", \n",
    "   \"P21/m\", \"C2/m\", \"P2/c\", \"P21/c\", \"C2/c\", \"P222\", \"P2221\", \"P21212\", \"P212121\", \"C2221\",\n",
    "   \"C222\", \"F222\", \"I222\", \"I212121\", \"Pmm2\", \"Pmc21\", \"Pcc2\", \"Pma2\", \"Pca21\", \"Pnc2\", \n",
    "   \"Pmn21\", \"Pba2\", \"Pna21\", \"Pnn2\", \"Cmm2\", \"Cmc21\", \"Ccc2\", \"Amm2\", \"Aem2\", \"Ama2\", \n",
    "   \"Aea2\", \"Fmm2\", \"Fdd2\", \"Imm2\", \"Iba2\", \"Ima2\", \"Pmmm\", \"Pnnn\", \"Pccm\", \"Pban\", \n",
    "   \"Pmma\", \"Pnna\", \"Pmna\", \"Pcca\", \"Pbam\", \"Pccn\", \"Pbcm\", \"Pnnm\", \"Pmmn\", \"Pbcn\", \n",
    "   \"Pbca\", \"Pnma\", \"Cmcm\", \"Cmce\", \"Cmmm\", \"Cccm\", \"Cmme\", \"Ccce\", \"Fmmm\", \"Fddd\", \n",
    "   \"Immm\", \"Ibam\", \"Ibca\", \"Imma\", \"P4\", \"P41\", \"P42\", \"P43\", \"I4\", \"I41\", \n",
    "   \"P-4\", \"I-4\", \"P4/m\", \"P42/m\", \"P4/n\", \"P42/n\", \"I4/m\", \"I41/a\", \"P422\", \"P4212\", \n",
    "   \"P4122\", \"P41212\", \"P4222\", \"P42212\", \"P4322\", \"P43212\", \"I422\", \"I4122\", \"P4mm\", \"P4bm\", \n",
    "   \"P42cm\", \"P42nm\", \"P4cc\", \"P4nc\", \"P42mc\", \"P42bc\", \"I4mm\", \"I4cm\", \"I41md\", \"I41cd\", \n",
    "   \"P-42m\", \"P-42c\", \"P-421m\", \"P-421c\", \"P-4m2\", \"P-4c2\", \"P-4b2\", \"P-4n2\", \"I-4m2\", \"I-4c2\", \n",
    "   \"I-42m\", \"I-42d\", \"P4/mmm\", \"P4/mcc\", \"P4/nbm\", \"P4/nnc\", \"P4/mbm\", \"P4/mnc\", \"P4/nmm\", \"P4/ncc\", \n",
    "   \"P42/mmc\", \"P42/mcm\", \"P42/nbc\", \"P42/nnm\", \"P42/mbc\", \"P42/mnm\", \"P42/nmc\", \"P42/ncm\", \"I4/mmm\", \"I4/mcm\", \n",
    "   \"I41/amd\", \"I41/acd\", \"P3\", \"P31\", \"P32\", \"R3\", \"P-3\", \"R-3\", \"P312\", \"P321\", \n",
    "   \"P3112\", \"P3121\", \"P3212\", \"P3221\", \"R32\", \"P3m1\", \"P31m\", \"P3c1\", \"P31c\", \"R3m\", \n",
    "   \"R3c\", \"P-31m\", \"P-31c\", \"P-3m1\", \"P-3c1\", \"R-3m\", \"R-3c\", \"P6\", \"P61\", \"P65\", \n",
    "   \"P62\", \"P64\", \"P63\", \"P-6\", \"P6/m\", \"P63/m\", \"P622\", \"P6122\", \"P6522\", \"P6222\", \n",
    "   \"P6422\", \"P6322\", \"P6mm\", \"P6cc\", \"P63cm\", \"P63mc\", \"P-6m2\", \"P-6c2\", \"P-62m\", \"P-62c\", \n",
    "   \"P6/mmm\", \"P6/mcc\", \"P63/mcm\", \"P63/mmc\", \"P23\", \"F23\", \"I23\", \"P213\", \"I213\", \"Pm-3\", \n",
    "   \"Pn-3\", \"Fm-3\", \"Fd-3\", \"Im-3\", \"Pa-3\", \"Ia-3\", \"P432\", \"P4232\", \"F432\", \"F4132\", \n",
    "   \"I432\", \"P4332\", \"P4132\", \"I4132\", \"P-43m\", \"F-43m\", \"I-43m\", \"P-43n\", \"F-43c\", \"I-43d\", \n",
    "   \"Pm-3m\", \"Pn-3n\", \"Pm-3n\", \"Pn-3m\", \"Fm-3m\", \"Fm-3c\", \"Fd-3m\", \"Fd-3c\", \"Im-3m\", \"Ia-3d\"]\n",
    "\n",
    "if \"R-31\" in SGSymText:\n",
    "    print(True)\n",
    "print(len(SGSymText))"
   ]
  },
  {
   "cell_type": "code",
   "execution_count": null,
   "metadata": {},
   "outputs": [],
   "source": []
  }
 ],
 "metadata": {
  "kernelspec": {
   "display_name": "Python 3",
   "language": "python",
   "name": "python3"
  },
  "language_info": {
   "codemirror_mode": {
    "name": "ipython",
    "version": 3
   },
   "file_extension": ".py",
   "mimetype": "text/x-python",
   "name": "python",
   "nbconvert_exporter": "python",
   "pygments_lexer": "ipython3",
   "version": "3.8.5"
  },
  "orig_nbformat": 4
 },
 "nbformat": 4,
 "nbformat_minor": 2
}
